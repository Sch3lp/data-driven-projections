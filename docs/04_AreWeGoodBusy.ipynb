{
 "cells": [
  {
   "cell_type": "code",
   "metadata": {
    "collapsed": true
   },
   "source": "%use dataframe, kandy",
   "outputs": [],
   "execution_count": null
  },
  {
   "metadata": {},
   "cell_type": "markdown",
   "source": [
    "# How are we doing?\n",
    "We wouldn't be working agile if we didn't have some ways to gather timely feedback that drive us towards improvements.\n",
    "\n",
    "For this we'll use \"Aging Charts\"."
   ]
  },
  {
   "metadata": {},
   "cell_type": "code",
   "source": [
    "import kotlinx.datetime.daysUntil\n",
    "import org.jetbrains.kotlinx.dataframe.api.dropNulls\n",
    "\n",
    "val csv = DataFrame.read(\"data/a_team.csv\")"
   ],
   "outputs": [],
   "execution_count": null
  },
  {
   "metadata": {},
   "cell_type": "code",
   "source": [
    "val cleaned = csv.dropNulls { `In Analysis` and Analyzed and `In Development` and Developed and `In Acceptance` and `In Production` }\n",
    "cleaned"
   ],
   "outputs": [],
   "execution_count": null
  },
  {
   "metadata": {},
   "cell_type": "markdown",
   "source": [
    "# Current state of our KanBan board\n",
    "We have 3 Work items In Progress:\n",
    "\n",
    "ST-0179 has been in progress for 36 days and is currently In Acceptance.\n",
    "\n",
    "ST-0180 has been in progress for 4 days and is currently In Development.\n",
    "\n",
    "ST-0181 has been in progress for 4 days and is currently In Analysis.\n"
   ]
  },
  {
   "metadata": {},
   "cell_type": "markdown",
   "source": [
    "# Can we improve anything?\n",
    "\n",
    "How can we know?"
   ]
  },
  {
   "metadata": {},
   "cell_type": "code",
   "source": [
    "val offsetWhenFinishedSameDay = 1\n",
    "\n",
    "val valueStream = cleaned\n",
    "    .add(\"AnalysisTime\") { `In Analysis`.date.daysUntil(Analyzed.date) + offsetWhenFinishedSameDay }\n",
    "    .add(\"CycleTime\") { `In Analysis`.date.daysUntil(`In Production`.date) + offsetWhenFinishedSameDay }\n",
    "    .select(\"StoryId\", \"AnalysisTime\",\"CycleTime\")\n",
    "valueStream"
   ],
   "outputs": [],
   "execution_count": null
  },
  {
   "metadata": {},
   "cell_type": "code",
   "source": [
    "val percentiles = valueStream.aggregate {\n",
    "    percentile(50.0) { AnalysisTime } into \"p50Analysis\"\n",
    "    percentile(85.0) { AnalysisTime } into \"p85Analysis\"\n",
    "    percentile(50.0) { CycleTime } into \"p50CycleTime\"\n",
    "    percentile(85.0) { CycleTime } into \"p85CycleTime\"\n",
    "}\n",
    "percentiles"
   ],
   "outputs": [],
   "execution_count": null
  },
  {
   "metadata": {},
   "cell_type": "code",
   "source": [
    "import org.jetbrains.kotlinx.kandy.ir.Plot\n",
    "import org.jetbrains.kotlinx.statistics.distribution.NormalDistribution\n",
    "import org.jetbrains.letsPlot.Stat\n",
    "import org.jetbrains.letsPlot.core.spec.plotson.BinStatOptions\n",
    "import org.jetbrains.letsPlot.core.spec.plotson.theme\n",
    "\n",
    "val analysisAgingChart = plot(valueStream) {\n",
    "    layout { size = 2000 to 900 }\n",
    "    points {\n",
    "        y(AnalysisTime)\n",
    "        x(StoryId)\n",
    "    }\n",
    "    hLine { yIntercept.constant(percentiles[\"p50Analysis\"]); type = LineType.DASHED }\n",
    "    hLine { yIntercept.constant(percentiles[\"p85Analysis\"]); type = LineType.DASHED }\n",
    "}\n",
    "analysisAgingChart"
   ],
   "outputs": [],
   "execution_count": null
  },
  {
   "metadata": {},
   "cell_type": "code",
   "source": [
    "val agingChart = plot(valueStream) {\n",
    "    layout { size = 2000 to 900 }\n",
    "    points {\n",
    "        y(CycleTime)\n",
    "        x(StoryId)\n",
    "    }\n",
    "    // vertical markers\n",
    "    hLine { yIntercept.constant(percentiles[\"p50CycleTime\"]); type = LineType.DASHED }\n",
    "    hLine { yIntercept.constant(percentiles[\"p85CycleTime\"]); type = LineType.DASHED }\n",
    "}\n",
    "agingChart"
   ],
   "outputs": [],
   "execution_count": null
  },
  {
   "metadata": {},
   "cell_type": "markdown",
   "source": [
    "# How good busy are we?\n",
    "Here's our current state again.\n",
    "\n",
    "## ST-0179 has been in progress for **36 days** and is currently In Acceptance.\n",
    "\n",
    "According to our Aging Chart our 50th percentile is 24 days \"in progress\", and the 85th percentile is 33.\n",
    "We sure don't want this story to mess up our stats!\n",
    "So let's get it to production asap!\n",
    "This needs to be our first priority.\n",
    "\n",
    "## ST-0180 has been in progress for 4 days and is currently In Development.\n",
    "This story is currently well below the 50th percentile of 24 days, and it's right on the median of our analysis time, so probably no action required today.\n",
    "\n",
    "## ST-0181 has been in progress for 4 days and is currently In Analysis.\n",
    "Given that our median is 4 days and 85th is 6 days, we should look into finishing analysis for this one today.\n",
    "If your gut says we won't be done today, let's put effort into splitting up this story today instead."
   ]
  },
  {
   "metadata": {},
   "cell_type": "code",
   "source": "",
   "outputs": [],
   "execution_count": null
  },
  {
   "metadata": {},
   "cell_type": "code",
   "source": "",
   "outputs": [],
   "execution_count": null
  }
 ],
 "metadata": {
  "kernelspec": {
   "display_name": "Kotlin",
   "language": "kotlin",
   "name": "kotlin"
  },
  "language_info": {
   "name": "kotlin",
   "version": "2.2.20-Beta2",
   "mimetype": "text/x-kotlin",
   "file_extension": ".kt",
   "pygments_lexer": "kotlin",
   "codemirror_mode": "text/x-kotlin",
   "nbconvert_exporter": ""
  }
 },
 "nbformat": 4,
 "nbformat_minor": 0
}
