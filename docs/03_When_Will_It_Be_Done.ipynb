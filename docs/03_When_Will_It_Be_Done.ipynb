{
 "cells": [
  {
   "cell_type": "code",
   "metadata": {
    "collapsed": true
   },
   "source": "%use dataframe, kandy",
   "outputs": [],
   "execution_count": null
  },
  {
   "metadata": {},
   "cell_type": "markdown",
   "source": [
    "# When will it be done?!\n",
    "Now we'll try to apply MonteCarlo to predict the next milestone of 13 stories"
   ]
  },
  {
   "metadata": {},
   "cell_type": "code",
   "source": [
    "import kotlinx.datetime.daysUntil\n",
    "import org.jetbrains.kotlinx.dataframe.api.dropNulls\n",
    "\n",
    "val csv = DataFrame.read(\"data/a_team.csv\")"
   ],
   "outputs": [],
   "execution_count": null
  },
  {
   "metadata": {},
   "cell_type": "code",
   "source": [
    "val cleaned = csv.dropNulls { `In Analysis` and Analyzed and `In Development` and Developed and `In Acceptance` and `In Production` }\n",
    "cleaned"
   ],
   "outputs": [],
   "execution_count": null
  },
  {
   "metadata": {},
   "cell_type": "markdown",
   "source": [
    "# What's our 'historical data' here?\n",
    "\n",
    "That's right, it's our `In Production` dates.\n",
    "They show when \"something was done\".\n",
    "\n",
    "We'll want to know, per date, how many stories were delivered on that day."
   ]
  },
  {
   "metadata": {},
   "cell_type": "code",
   "source": [
    "val oldestInProductionDate = cleaned.`In Production`.min().date\n",
    "val mostRecentInProductionDate = cleaned.`In Production`.max().date\n",
    "println(\"$oldestInProductionDate..$mostRecentInProductionDate\")"
   ],
   "outputs": [],
   "execution_count": null
  },
  {
   "metadata": {},
   "cell_type": "code",
   "source": [
    "val throughput = cleaned\n",
    "    .groupBy { `In Production`.convertToLocalDate() }\n",
    "    .count()\n",
    "    .sortBy { `In Production` }\n",
    "    .rename(\"In Production\" to \"date\", \"count\" to \"storiesDelivered\")\n",
    "throughput"
   ],
   "outputs": [],
   "execution_count": null
  },
  {
   "metadata": {},
   "cell_type": "code",
   "source": [
    "import kotlinx.datetime.DateTimeUnit\n",
    "import kotlinx.datetime.plus\n",
    "\n",
    "val allDates = generateSequence(oldestInProductionDate) { it.plus(1, DateTimeUnit.DAY) }.takeWhile { it <= mostRecentInProductionDate }\n",
    "    .toList().toDataFrame().rename(\"value\" to \"date\")\n",
    "allDates"
   ],
   "outputs": [],
   "execution_count": null
  },
  {
   "metadata": {},
   "cell_type": "code",
   "source": [
    "val historicalThroughput = allDates\n",
    "    .join(other = throughput, type = JoinType.Left) { date }\n",
    "    .fillNulls(\"storiesDelivered\").withZero()\n",
    "    .sortBy { date }\n",
    "historicalThroughput"
   ],
   "outputs": [],
   "execution_count": null
  },
  {
   "metadata": {},
   "cell_type": "code",
   "source": [
    "import kotlin.random.Random\n",
    "\n",
    "data class Trial(val totalDays: Int)\n",
    "\n",
    "fun monteCarloFromThroughput(\n",
    "    storiesInNextMilestone: Int = 13,\n",
    "    trials: Int = 10_000,\n",
    "    rng: Random = Random,\n",
    "): DataFrame<Trial> {\n",
    "    val values = historicalThroughput.storiesDelivered.values().toList()\n",
    "\n",
    "    val runs = List(trials) {\n",
    "        var done = 0\n",
    "        var days = 0\n",
    "        while (done < storiesInNextMilestone) {\n",
    "            done += values[rng.nextInt(values.size)] //some days we had delivered 2 stories, other days 1, most days 0\n",
    "            days += 1\n",
    "        }\n",
    "        Trial(days)\n",
    "    }\n",
    "    return runs.toDataFrame()\n",
    "}"
   ],
   "outputs": [],
   "execution_count": null
  },
  {
   "metadata": {},
   "cell_type": "code",
   "source": [
    "val mc = monteCarloFromThroughput(storiesInNextMilestone = 13)\n",
    "mc"
   ],
   "outputs": [],
   "execution_count": null
  },
  {
   "metadata": {},
   "cell_type": "code",
   "source": [
    "val p50 = mc.percentile(50.0) { totalDays }\n",
    "val p85 = mc.percentile(85.0) { totalDays }\n",
    "println(\"P50=$p50  P85=$p85\")"
   ],
   "outputs": [],
   "execution_count": null
  },
  {
   "metadata": {},
   "cell_type": "code",
   "source": [
    "val frequencyPerTotal = mc.groupBy { totalDays }.count().rename(\"count\" to \"frequency\").sortBy { totalDays }\n",
    "frequencyPerTotal"
   ],
   "outputs": [],
   "execution_count": null
  },
  {
   "metadata": {},
   "cell_type": "code",
   "source": [
    "import org.jetbrains.kotlinx.statistics.distribution.NormalDistribution\n",
    "import org.jetbrains.letsPlot.Stat\n",
    "import org.jetbrains.letsPlot.core.spec.plotson.BinStatOptions\n",
    "\n",
    "val distributionBarChart = plot(frequencyPerTotal) {\n",
    "    layout { size = 2000 to 900 }\n",
    "    bars {\n",
    "        x(totalDays)\n",
    "        y(frequency)\n",
    "        alpha = 0.6\n",
    "    }\n",
    "    // vertical markers\n",
    "    vLine { xIntercept.constant(p50); type = LineType.DASHED }\n",
    "    vLine { xIntercept.constant(p85); type = LineType.DASHED }\n",
    "}\n",
    "distributionBarChart"
   ],
   "outputs": [],
   "execution_count": null
  },
  {
   "metadata": {},
   "cell_type": "markdown",
   "source": [
    "# When will it be done?\n",
    "Now we can say that, with a 50% certainty, for the next milestone of 13 stories, these will be done within 68 days.\n",
    "\n",
    "If you want a higher certainty (e.g. planning a super expensive team you're integrating with), you should tell your manager that they'll be done within 90 days.\n",
    "\n",
    "## Caveat\n",
    "These predictions only stay relevant if your team composition remains the same and you can continue working in the same as you have been."
   ]
  }
 ],
 "metadata": {
  "kernelspec": {
   "display_name": "Kotlin",
   "language": "kotlin",
   "name": "kotlin"
  },
  "language_info": {
   "name": "kotlin",
   "version": "2.2.20-Beta2",
   "mimetype": "text/x-kotlin",
   "file_extension": ".kt",
   "pygments_lexer": "kotlin",
   "codemirror_mode": "text/x-kotlin",
   "nbconvert_exporter": ""
  }
 },
 "nbformat": 4,
 "nbformat_minor": 0
}
