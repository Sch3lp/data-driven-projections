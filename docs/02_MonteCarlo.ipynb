{
 "cells": [
  {
   "cell_type": "code",
   "metadata": {},
   "source": "%use dataframe, kandy",
   "outputs": [],
   "execution_count": null
  },
  {
   "metadata": {},
   "cell_type": "markdown",
   "source": "# Getting historical data"
  },
  {
   "metadata": {},
   "cell_type": "code",
   "source": [
    "import kotlin.random.Random\n",
    "\n",
    "data class DieRoll(val roll: Int, val result: Int)\n",
    "fun rollTheDice() = Random.nextInt(1, 7)\n",
    "//Imagine we have rolled a 6-sided die, 100 times\n",
    "val historicalDiceRolls = generateSequence { rollTheDice() }.take(100).mapIndexed { idx, it -> DieRoll(idx+1, it) }.toList().toDataFrame()\n",
    "historicalDiceRolls"
   ],
   "outputs": [],
   "execution_count": null
  },
  {
   "metadata": {},
   "cell_type": "markdown",
   "source": [
    "# Use MonteCarlo to simulate a probability distribution\n",
    "We want to know what the sum of the dice will be, given a certain amount of dice rolls.\n",
    "We understand that it's not always going to be the same, but let's say that we're happy with 50% certainty."
   ]
  },
  {
   "metadata": {},
   "cell_type": "code",
   "source": [
    "data class Trial(val totalDiceScore: Int)\n",
    "\n",
    "fun monteCarloFromDiceRolls(\n",
    "    trials: Int = 10_000,\n",
    "    drawsPerTrial: Int = 30,\n",
    "): DataFrame<Trial> {\n",
    "    val values = historicalDiceRolls.get { result }.toList()\n",
    "    val n = values.size\n",
    "    val totals = List(trials) { //create 10_000 trials\n",
    "        var currentTotal = 0\n",
    "        repeat(drawsPerTrial) { //roll 30 times and pick a result from our historical rolls to do so\n",
    "            val idx = Random.nextInt(n)\n",
    "            currentTotal += values[idx]\n",
    "        }\n",
    "        Trial(currentTotal)\n",
    "    }\n",
    "    return totals.toDataFrame()\n",
    "}"
   ],
   "outputs": [],
   "execution_count": null
  },
  {
   "metadata": {},
   "cell_type": "code",
   "source": [
    "val mc = monteCarloFromDiceRolls(\n",
    "    trials = 10_000,\n",
    "    drawsPerTrial = 30,\n",
    ")\n",
    "mc"
   ],
   "outputs": [],
   "execution_count": null
  },
  {
   "metadata": {},
   "cell_type": "markdown",
   "source": [
    "# Calculate some percentiles\n",
    "`p50` = the 50th percentile, or in this case: If we're ok with being 50% sure, what's a total score I can get having rolled 30 dice.\n",
    "`p85` = the 85th percentile"
   ]
  },
  {
   "metadata": {},
   "cell_type": "code",
   "source": [
    "val p50 = mc.percentile(50.0) { totalDiceScore } //aka median\n",
    "val p85 = mc.percentile(85.0) { totalDiceScore }\n",
    "println(\"P50=$p50  P85=$p85\")"
   ],
   "outputs": [],
   "execution_count": null
  },
  {
   "metadata": {},
   "cell_type": "markdown",
   "source": [
    "# Prep the distribution for visualisation\n",
    "We'll want to show how many times (frequency) a totalDiceScore was gotten with those 30 rolls.\n",
    "So we'll need to group and count them.\n",
    "The groups will need to be sorted for the visualisation to make sense."
   ]
  },
  {
   "metadata": {},
   "cell_type": "code",
   "source": [
    "val frequencyPerTotal = mc.groupBy { totalDiceScore }.count().rename(\"count\" to \"frequency\").sortBy { totalDiceScore }\n",
    "frequencyPerTotal"
   ],
   "outputs": [],
   "execution_count": null
  },
  {
   "metadata": {},
   "cell_type": "code",
   "source": [
    "import org.jetbrains.kotlinx.statistics.distribution.NormalDistribution\n",
    "import org.jetbrains.letsPlot.Stat\n",
    "import org.jetbrains.letsPlot.core.spec.plotson.BinStatOptions\n",
    "\n",
    "val distributionBarChart = plot(frequencyPerTotal) {\n",
    "    layout { size = 2000 to 900 }\n",
    "    bars {\n",
    "        x(totalDiceScore)\n",
    "        y(frequency)\n",
    "        alpha = 0.6\n",
    "    }\n",
    "    // vertical markers\n",
    "    vLine { xIntercept.constant(p50); type = LineType.DASHED }\n",
    "    vLine { xIntercept.constant(p85); type = LineType.DASHED }\n",
    "}\n",
    "distributionBarChart"
   ],
   "outputs": [],
   "execution_count": null
  },
  {
   "metadata": {},
   "cell_type": "code",
   "source": "",
   "outputs": [],
   "execution_count": null
  }
 ],
 "metadata": {
  "kernelspec": {
   "display_name": "Kotlin",
   "language": "kotlin",
   "name": "kotlin"
  },
  "language_info": {
   "name": "kotlin",
   "version": "2.2.20-Beta2",
   "mimetype": "text/x-kotlin",
   "file_extension": ".kt",
   "pygments_lexer": "kotlin",
   "codemirror_mode": "text/x-kotlin",
   "nbconvert_exporter": ""
  }
 },
 "nbformat": 4,
 "nbformat_minor": 0
}
